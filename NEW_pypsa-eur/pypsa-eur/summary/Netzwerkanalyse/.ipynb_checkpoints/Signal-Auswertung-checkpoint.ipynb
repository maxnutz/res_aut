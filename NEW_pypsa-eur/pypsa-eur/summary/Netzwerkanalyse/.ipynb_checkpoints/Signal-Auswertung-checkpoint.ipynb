{
 "cells": [
  {
   "cell_type": "code",
   "execution_count": 1,
   "id": "e267fd27",
   "metadata": {},
   "outputs": [
    {
     "name": "stdout",
     "output_type": "stream",
     "text": [
      "SIGNALscripts.config  loaded!\n",
      "SIGNALscripts.notebooks loaded!\n"
     ]
    }
   ],
   "source": [
    "import pandas as pd\n",
    "import numpy as np\n",
    "import matplotlib.pyplot as plt\n",
    "from SIGNALscripts import plots\n",
    "import SIGNALscripts.functions as f "
   ]
  },
  {
   "cell_type": "markdown",
   "id": "8d054e7a",
   "metadata": {},
   "source": [
    "# Auswertung Residuallast-Signale\n",
    "greift auf die Datei 'RES_pro_Stunde.csv' und die eingegebenen csv-Dateien der Schaltsignale zu.\n",
    "\n",
    "\n",
    "## Inhalt\n",
    "- Häufigkeiten\n",
    "    - Anteil positiver/negativer Stunden insgesamt\n",
    "    - Längste positive Phase/längste negative Phase\n",
    "    - Phasenlängen von x Stunden negativ/positiv\n",
    "- Zusammenhang mit der Residuallast\n",
    "    - Häufigkeit Signal positiv und RES > 0 \n",
    "    - Häufigkeit Signal negativ und RES < 0\n",
    " \n",
    "### Input\n",
    "- dateien: Namen der Dateien, die die Signale enthalten\n",
    "- names: Namen, die später für die Identifikation in diesem Notebook verwendet werden können (Anzahl Dateinamen und Namen muss übereinstimmen)\n",
    "Die Dateien, die importiert werden sollen, im folder \"result_files\" ablegen, der sich im gleichen Ordner wie das Notebook befindet (sofern es nicht die outputdateien des Auswertungs-Skripts sind). "
   ]
  },
  {
   "cell_type": "code",
   "execution_count": 2,
   "id": "39d24752",
   "metadata": {},
   "outputs": [
    {
     "ename": "FileNotFoundError",
     "evalue": "[Errno 2] No such file or directory: 'RES_pro_Stunde.csv'",
     "output_type": "error",
     "traceback": [
      "\u001b[0;31m---------------------------------------------------------------------------\u001b[0m",
      "\u001b[0;31mFileNotFoundError\u001b[0m                         Traceback (most recent call last)",
      "\u001b[0;32m/tmp/ipykernel_137199/243101008.py\u001b[0m in \u001b[0;36m<module>\u001b[0;34m\u001b[0m\n\u001b[1;32m      2\u001b[0m \u001b[0mdateien\u001b[0m \u001b[0;34m=\u001b[0m \u001b[0;34m[\u001b[0m\u001b[0;34m'Schaltsignal_RES1.csv'\u001b[0m\u001b[0;34m,\u001b[0m \u001b[0;34m'Schaltsignal_RES2.csv'\u001b[0m\u001b[0;34m,\u001b[0m \u001b[0;34m'Schaltsignal_RES3.csv'\u001b[0m\u001b[0;34m]\u001b[0m\u001b[0;34m\u001b[0m\u001b[0;34m\u001b[0m\u001b[0m\n\u001b[1;32m      3\u001b[0m \u001b[0mnames\u001b[0m \u001b[0;34m=\u001b[0m \u001b[0;34m[\u001b[0m\u001b[0;34m'Signal 1'\u001b[0m\u001b[0;34m,\u001b[0m \u001b[0;34m'Signal 2'\u001b[0m\u001b[0;34m,\u001b[0m \u001b[0;34m'Signal 3'\u001b[0m\u001b[0;34m]\u001b[0m\u001b[0;34m\u001b[0m\u001b[0;34m\u001b[0m\u001b[0m\n\u001b[0;32m----> 4\u001b[0;31m \u001b[0mresload\u001b[0m \u001b[0;34m=\u001b[0m \u001b[0mpd\u001b[0m\u001b[0;34m.\u001b[0m\u001b[0mread_csv\u001b[0m\u001b[0;34m(\u001b[0m\u001b[0;34m'RES_pro_Stunde.csv'\u001b[0m\u001b[0;34m,\u001b[0m \u001b[0mheader\u001b[0m \u001b[0;34m=\u001b[0m \u001b[0;36m1\u001b[0m\u001b[0;34m,\u001b[0m \u001b[0mnames\u001b[0m \u001b[0;34m=\u001b[0m \u001b[0;34m[\u001b[0m\u001b[0;34m'snapshots'\u001b[0m\u001b[0;34m,\u001b[0m \u001b[0;34m'signal'\u001b[0m\u001b[0;34m]\u001b[0m\u001b[0;34m)\u001b[0m\u001b[0;34m\u001b[0m\u001b[0;34m\u001b[0m\u001b[0m\n\u001b[0m\u001b[1;32m      5\u001b[0m \u001b[0;31m###\u001b[0m\u001b[0;34m\u001b[0m\u001b[0;34m\u001b[0m\u001b[0;34m\u001b[0m\u001b[0m\n\u001b[1;32m      6\u001b[0m \u001b[0msdf\u001b[0m \u001b[0;34m=\u001b[0m \u001b[0mf\u001b[0m\u001b[0;34m.\u001b[0m\u001b[0mimport_func\u001b[0m\u001b[0;34m(\u001b[0m\u001b[0mdateien\u001b[0m\u001b[0;34m,\u001b[0m \u001b[0mnames\u001b[0m\u001b[0;34m)\u001b[0m\u001b[0;34m\u001b[0m\u001b[0;34m\u001b[0m\u001b[0m\n",
      "\u001b[0;32m~/anaconda3/envs/pypsa-eur/lib/python3.8/site-packages/pandas/io/parsers.py\u001b[0m in \u001b[0;36mread_csv\u001b[0;34m(filepath_or_buffer, sep, delimiter, header, names, index_col, usecols, squeeze, prefix, mangle_dupe_cols, dtype, engine, converters, true_values, false_values, skipinitialspace, skiprows, skipfooter, nrows, na_values, keep_default_na, na_filter, verbose, skip_blank_lines, parse_dates, infer_datetime_format, keep_date_col, date_parser, dayfirst, cache_dates, iterator, chunksize, compression, thousands, decimal, lineterminator, quotechar, quoting, doublequote, escapechar, comment, encoding, dialect, error_bad_lines, warn_bad_lines, delim_whitespace, low_memory, memory_map, float_precision, storage_options)\u001b[0m\n\u001b[1;32m    608\u001b[0m     \u001b[0mkwds\u001b[0m\u001b[0;34m.\u001b[0m\u001b[0mupdate\u001b[0m\u001b[0;34m(\u001b[0m\u001b[0mkwds_defaults\u001b[0m\u001b[0;34m)\u001b[0m\u001b[0;34m\u001b[0m\u001b[0;34m\u001b[0m\u001b[0m\n\u001b[1;32m    609\u001b[0m \u001b[0;34m\u001b[0m\u001b[0m\n\u001b[0;32m--> 610\u001b[0;31m     \u001b[0;32mreturn\u001b[0m \u001b[0m_read\u001b[0m\u001b[0;34m(\u001b[0m\u001b[0mfilepath_or_buffer\u001b[0m\u001b[0;34m,\u001b[0m \u001b[0mkwds\u001b[0m\u001b[0;34m)\u001b[0m\u001b[0;34m\u001b[0m\u001b[0;34m\u001b[0m\u001b[0m\n\u001b[0m\u001b[1;32m    611\u001b[0m \u001b[0;34m\u001b[0m\u001b[0m\n\u001b[1;32m    612\u001b[0m \u001b[0;34m\u001b[0m\u001b[0m\n",
      "\u001b[0;32m~/anaconda3/envs/pypsa-eur/lib/python3.8/site-packages/pandas/io/parsers.py\u001b[0m in \u001b[0;36m_read\u001b[0;34m(filepath_or_buffer, kwds)\u001b[0m\n\u001b[1;32m    460\u001b[0m \u001b[0;34m\u001b[0m\u001b[0m\n\u001b[1;32m    461\u001b[0m     \u001b[0;31m# Create the parser.\u001b[0m\u001b[0;34m\u001b[0m\u001b[0;34m\u001b[0m\u001b[0;34m\u001b[0m\u001b[0m\n\u001b[0;32m--> 462\u001b[0;31m     \u001b[0mparser\u001b[0m \u001b[0;34m=\u001b[0m \u001b[0mTextFileReader\u001b[0m\u001b[0;34m(\u001b[0m\u001b[0mfilepath_or_buffer\u001b[0m\u001b[0;34m,\u001b[0m \u001b[0;34m**\u001b[0m\u001b[0mkwds\u001b[0m\u001b[0;34m)\u001b[0m\u001b[0;34m\u001b[0m\u001b[0;34m\u001b[0m\u001b[0m\n\u001b[0m\u001b[1;32m    463\u001b[0m \u001b[0;34m\u001b[0m\u001b[0m\n\u001b[1;32m    464\u001b[0m     \u001b[0;32mif\u001b[0m \u001b[0mchunksize\u001b[0m \u001b[0;32mor\u001b[0m \u001b[0miterator\u001b[0m\u001b[0;34m:\u001b[0m\u001b[0;34m\u001b[0m\u001b[0;34m\u001b[0m\u001b[0m\n",
      "\u001b[0;32m~/anaconda3/envs/pypsa-eur/lib/python3.8/site-packages/pandas/io/parsers.py\u001b[0m in \u001b[0;36m__init__\u001b[0;34m(self, f, engine, **kwds)\u001b[0m\n\u001b[1;32m    817\u001b[0m             \u001b[0mself\u001b[0m\u001b[0;34m.\u001b[0m\u001b[0moptions\u001b[0m\u001b[0;34m[\u001b[0m\u001b[0;34m\"has_index_names\"\u001b[0m\u001b[0;34m]\u001b[0m \u001b[0;34m=\u001b[0m \u001b[0mkwds\u001b[0m\u001b[0;34m[\u001b[0m\u001b[0;34m\"has_index_names\"\u001b[0m\u001b[0;34m]\u001b[0m\u001b[0;34m\u001b[0m\u001b[0;34m\u001b[0m\u001b[0m\n\u001b[1;32m    818\u001b[0m \u001b[0;34m\u001b[0m\u001b[0m\n\u001b[0;32m--> 819\u001b[0;31m         \u001b[0mself\u001b[0m\u001b[0;34m.\u001b[0m\u001b[0m_engine\u001b[0m \u001b[0;34m=\u001b[0m \u001b[0mself\u001b[0m\u001b[0;34m.\u001b[0m\u001b[0m_make_engine\u001b[0m\u001b[0;34m(\u001b[0m\u001b[0mself\u001b[0m\u001b[0;34m.\u001b[0m\u001b[0mengine\u001b[0m\u001b[0;34m)\u001b[0m\u001b[0;34m\u001b[0m\u001b[0;34m\u001b[0m\u001b[0m\n\u001b[0m\u001b[1;32m    820\u001b[0m \u001b[0;34m\u001b[0m\u001b[0m\n\u001b[1;32m    821\u001b[0m     \u001b[0;32mdef\u001b[0m \u001b[0mclose\u001b[0m\u001b[0;34m(\u001b[0m\u001b[0mself\u001b[0m\u001b[0;34m)\u001b[0m\u001b[0;34m:\u001b[0m\u001b[0;34m\u001b[0m\u001b[0;34m\u001b[0m\u001b[0m\n",
      "\u001b[0;32m~/anaconda3/envs/pypsa-eur/lib/python3.8/site-packages/pandas/io/parsers.py\u001b[0m in \u001b[0;36m_make_engine\u001b[0;34m(self, engine)\u001b[0m\n\u001b[1;32m   1048\u001b[0m             )\n\u001b[1;32m   1049\u001b[0m         \u001b[0;31m# error: Too many arguments for \"ParserBase\"\u001b[0m\u001b[0;34m\u001b[0m\u001b[0;34m\u001b[0m\u001b[0;34m\u001b[0m\u001b[0m\n\u001b[0;32m-> 1050\u001b[0;31m         \u001b[0;32mreturn\u001b[0m \u001b[0mmapping\u001b[0m\u001b[0;34m[\u001b[0m\u001b[0mengine\u001b[0m\u001b[0;34m]\u001b[0m\u001b[0;34m(\u001b[0m\u001b[0mself\u001b[0m\u001b[0;34m.\u001b[0m\u001b[0mf\u001b[0m\u001b[0;34m,\u001b[0m \u001b[0;34m**\u001b[0m\u001b[0mself\u001b[0m\u001b[0;34m.\u001b[0m\u001b[0moptions\u001b[0m\u001b[0;34m)\u001b[0m  \u001b[0;31m# type: ignore[call-arg]\u001b[0m\u001b[0;34m\u001b[0m\u001b[0;34m\u001b[0m\u001b[0m\n\u001b[0m\u001b[1;32m   1051\u001b[0m \u001b[0;34m\u001b[0m\u001b[0m\n\u001b[1;32m   1052\u001b[0m     \u001b[0;32mdef\u001b[0m \u001b[0m_failover_to_python\u001b[0m\u001b[0;34m(\u001b[0m\u001b[0mself\u001b[0m\u001b[0;34m)\u001b[0m\u001b[0;34m:\u001b[0m\u001b[0;34m\u001b[0m\u001b[0;34m\u001b[0m\u001b[0m\n",
      "\u001b[0;32m~/anaconda3/envs/pypsa-eur/lib/python3.8/site-packages/pandas/io/parsers.py\u001b[0m in \u001b[0;36m__init__\u001b[0;34m(self, src, **kwds)\u001b[0m\n\u001b[1;32m   1865\u001b[0m \u001b[0;34m\u001b[0m\u001b[0m\n\u001b[1;32m   1866\u001b[0m         \u001b[0;31m# open handles\u001b[0m\u001b[0;34m\u001b[0m\u001b[0;34m\u001b[0m\u001b[0;34m\u001b[0m\u001b[0m\n\u001b[0;32m-> 1867\u001b[0;31m         \u001b[0mself\u001b[0m\u001b[0;34m.\u001b[0m\u001b[0m_open_handles\u001b[0m\u001b[0;34m(\u001b[0m\u001b[0msrc\u001b[0m\u001b[0;34m,\u001b[0m \u001b[0mkwds\u001b[0m\u001b[0;34m)\u001b[0m\u001b[0;34m\u001b[0m\u001b[0;34m\u001b[0m\u001b[0m\n\u001b[0m\u001b[1;32m   1868\u001b[0m         \u001b[0;32massert\u001b[0m \u001b[0mself\u001b[0m\u001b[0;34m.\u001b[0m\u001b[0mhandles\u001b[0m \u001b[0;32mis\u001b[0m \u001b[0;32mnot\u001b[0m \u001b[0;32mNone\u001b[0m\u001b[0;34m\u001b[0m\u001b[0;34m\u001b[0m\u001b[0m\n\u001b[1;32m   1869\u001b[0m         \u001b[0;32mfor\u001b[0m \u001b[0mkey\u001b[0m \u001b[0;32min\u001b[0m \u001b[0;34m(\u001b[0m\u001b[0;34m\"storage_options\"\u001b[0m\u001b[0;34m,\u001b[0m \u001b[0;34m\"encoding\"\u001b[0m\u001b[0;34m,\u001b[0m \u001b[0;34m\"memory_map\"\u001b[0m\u001b[0;34m,\u001b[0m \u001b[0;34m\"compression\"\u001b[0m\u001b[0;34m)\u001b[0m\u001b[0;34m:\u001b[0m\u001b[0;34m\u001b[0m\u001b[0;34m\u001b[0m\u001b[0m\n",
      "\u001b[0;32m~/anaconda3/envs/pypsa-eur/lib/python3.8/site-packages/pandas/io/parsers.py\u001b[0m in \u001b[0;36m_open_handles\u001b[0;34m(self, src, kwds)\u001b[0m\n\u001b[1;32m   1360\u001b[0m         \u001b[0mLet\u001b[0m \u001b[0mthe\u001b[0m \u001b[0mreaders\u001b[0m \u001b[0mopen\u001b[0m \u001b[0mIOHanldes\u001b[0m \u001b[0mafter\u001b[0m \u001b[0mthey\u001b[0m \u001b[0mare\u001b[0m \u001b[0mdone\u001b[0m \u001b[0;32mwith\u001b[0m \u001b[0mtheir\u001b[0m \u001b[0mpotential\u001b[0m \u001b[0mraises\u001b[0m\u001b[0;34m.\u001b[0m\u001b[0;34m\u001b[0m\u001b[0;34m\u001b[0m\u001b[0m\n\u001b[1;32m   1361\u001b[0m         \"\"\"\n\u001b[0;32m-> 1362\u001b[0;31m         self.handles = get_handle(\n\u001b[0m\u001b[1;32m   1363\u001b[0m             \u001b[0msrc\u001b[0m\u001b[0;34m,\u001b[0m\u001b[0;34m\u001b[0m\u001b[0;34m\u001b[0m\u001b[0m\n\u001b[1;32m   1364\u001b[0m             \u001b[0;34m\"r\"\u001b[0m\u001b[0;34m,\u001b[0m\u001b[0;34m\u001b[0m\u001b[0;34m\u001b[0m\u001b[0m\n",
      "\u001b[0;32m~/anaconda3/envs/pypsa-eur/lib/python3.8/site-packages/pandas/io/common.py\u001b[0m in \u001b[0;36mget_handle\u001b[0;34m(path_or_buf, mode, encoding, compression, memory_map, is_text, errors, storage_options)\u001b[0m\n\u001b[1;32m    645\u001b[0m                 \u001b[0merrors\u001b[0m \u001b[0;34m=\u001b[0m \u001b[0;34m\"replace\"\u001b[0m\u001b[0;34m\u001b[0m\u001b[0;34m\u001b[0m\u001b[0m\n\u001b[1;32m    646\u001b[0m             \u001b[0;31m# Encoding\u001b[0m\u001b[0;34m\u001b[0m\u001b[0;34m\u001b[0m\u001b[0;34m\u001b[0m\u001b[0m\n\u001b[0;32m--> 647\u001b[0;31m             handle = open(\n\u001b[0m\u001b[1;32m    648\u001b[0m                 \u001b[0mhandle\u001b[0m\u001b[0;34m,\u001b[0m\u001b[0;34m\u001b[0m\u001b[0;34m\u001b[0m\u001b[0m\n\u001b[1;32m    649\u001b[0m                 \u001b[0mioargs\u001b[0m\u001b[0;34m.\u001b[0m\u001b[0mmode\u001b[0m\u001b[0;34m,\u001b[0m\u001b[0;34m\u001b[0m\u001b[0;34m\u001b[0m\u001b[0m\n",
      "\u001b[0;31mFileNotFoundError\u001b[0m: [Errno 2] No such file or directory: 'RES_pro_Stunde.csv'"
     ]
    }
   ],
   "source": [
    "###\n",
    "dateien = ['Schaltsignal_RES1.csv', 'Schaltsignal_RES2.csv', 'Schaltsignal_RES3.csv']\n",
    "names = ['Signal 1', 'Signal 2', 'Signal 3']\n",
    "resload = pd.read_csv('result_files/RES_pro_Stunde.csv', header = 1, names = ['snapshots', 'signal'])\n",
    "###\n",
    "sdf = f.import_func(dateien, names)"
   ]
  },
  {
   "cell_type": "markdown",
   "id": "fb98f6e0",
   "metadata": {},
   "source": [
    "## Anforderungen an das Dataframe\n",
    "- csv-file mit einer header-Zeile und zwei Spalten\n",
    "    - erste Spalte: Index bzw. Datums- und Zeitangaben\n",
    "    - zweite Spalte: Signal\n",
    "- Signal: binäres Signal x mit $x \\in [0,1]$\n",
    "- mindestens 2 negative bzw. positive Einträge\n",
    "\n",
    "**$\\rightarrow$ Signal erfüllt die Anforderungen zur Auswertung:**"
   ]
  },
  {
   "cell_type": "code",
   "execution_count": null,
   "id": "fabff119",
   "metadata": {},
   "outputs": [],
   "source": [
    "f.check_input(sdf[1])"
   ]
  },
  {
   "cell_type": "markdown",
   "id": "aa9e599d",
   "metadata": {},
   "source": [
    "## Häufigkeits-Analyse\n",
    "### Allgemeine Statistik\n",
    "- Anteil pos. Signal: gibt an, welchen Anteil der gesamt vergangenen Zeit ein positives Signal `1` gebracht wird. \n",
    "- Anteil neg. Signal: gibt an, welchen Anteil der gesamt vergangenen zeit ein negatives Signal `0` gebracht wird.\n",
    "- Längstes pos. Signal: Gibt die längste Zeitdauer, die durchgehend ein positives Signal `1` erscheint, an\n",
    "- Längstes neg. Signal: Gibt die längste Zeitdauer, die durchgehend ein negatives Signal `0`erscheint, an\n",
    "- Mean neg. Signal: Mittelwert der Zeitdauern, die durchgehend ein negatives Signal `0` erscheint\n",
    "- Mean pos. Signal: Mittelwert der Zeitdauern, die durchgebend ein positives Signal `1` erscheint\n",
    "\n",
    "Alle größenbehafteten Angaben werden in Stunden angegeben."
   ]
  },
  {
   "cell_type": "code",
   "execution_count": null,
   "id": "fa50d4a2",
   "metadata": {},
   "outputs": [],
   "source": [
    "f.statistics(sdf)"
   ]
  },
  {
   "cell_type": "markdown",
   "id": "f9de8188",
   "metadata": {},
   "source": [
    "### Zeitdauern eines durchgängigen Signals\n",
    "Die Daten sind im DataFrame 'res' gespeichert und können mit der auskommentierten Zeile als csv gespeichert werden."
   ]
  },
  {
   "cell_type": "code",
   "execution_count": null,
   "id": "02dce8ba",
   "metadata": {},
   "outputs": [],
   "source": [
    "for i in range(0,len(sdf[1])):\n",
    "    res = f.all_lengths(sdf[1][i]['signal'])\n",
    "    res[1:40].plot(kind = 'bar', figsize=(20,5))\n",
    "    plt.title('Länge der Signale von ' + sdf[0][i], fontsize = 23)\n",
    "    plt.xlabel('Zeitdauer [h]')\n",
    "    plt.ylabel('Auftreten ')\n",
    "    #res.to_csv('pathtofolder/ZD_'+ sdf[0][i].csv)"
   ]
  },
  {
   "cell_type": "markdown",
   "id": "f0dc1dfb",
   "metadata": {},
   "source": [
    "## Zusammenhang mit der Residuallast\n",
    "- Positives Signal RES > 0 gibt an, zu wie vielen Stunden das Schaltsignal positiv ist und die Residuallast ebenfalls\n",
    "- Positives Signal RES < 0 gibt an, zu wie vielen Stunden das Schaltsignal positiv ist, die Residuallast hingegen negativ\n",
    "- Negatives Signal RES > 0 gibt an, zu wie vielen Stunden das Schaltsignal negativ ist und die Residuallast positiv \n",
    "- Negatives Signal RES < 0 gibt an, zu wie vielen Stunden das Schaltsignal negativ ist und die die Residuallast positiv.\n",
    "- Anteil neg. Signal RES < 0 gibt an, welcher Anteil der negativen Residuallast ein negatives Schaltsignal auslöst $\\rightarrow$ sollte minimal sein\n",
    "- Anteil pos. Singnal RES > 0 gibt an, welcher Anteil der positiven Residuallast ein positives Schaltsignal auslöst $\\rightarrow$ abhängig von der Zeitreihe der Residuallast nicht zu klein"
   ]
  },
  {
   "cell_type": "code",
   "execution_count": null,
   "id": "2b1aab5b",
   "metadata": {},
   "outputs": [],
   "source": [
    "f.signal_res(sdf, resload)"
   ]
  }
 ],
 "metadata": {
  "kernelspec": {
   "display_name": "Python 3 (ipykernel)",
   "language": "python",
   "name": "python3"
  },
  "language_info": {
   "codemirror_mode": {
    "name": "ipython",
    "version": 3
   },
   "file_extension": ".py",
   "mimetype": "text/x-python",
   "name": "python",
   "nbconvert_exporter": "python",
   "pygments_lexer": "ipython3",
   "version": "3.8.10"
  }
 },
 "nbformat": 4,
 "nbformat_minor": 5
}
